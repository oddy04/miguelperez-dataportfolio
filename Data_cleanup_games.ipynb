{
  "nbformat": 4,
  "nbformat_minor": 0,
  "metadata": {
    "colab": {
      "provenance": [],
      "authorship_tag": "ABX9TyM6G+eUl174DPZTIqImpn6d",
      "include_colab_link": true
    },
    "kernelspec": {
      "name": "python3",
      "display_name": "Python 3"
    },
    "language_info": {
      "name": "python"
    }
  },
  "cells": [
    {
      "cell_type": "markdown",
      "metadata": {
        "id": "view-in-github",
        "colab_type": "text"
      },
      "source": [
        "<a href=\"https://colab.research.google.com/github/oddy04/miguelperez-dataportfolio/blob/main/Data_cleanup_games.ipynb\" target=\"_parent\"><img src=\"https://colab.research.google.com/assets/colab-badge.svg\" alt=\"Open In Colab\"/></a>"
      ]
    },
    {
      "cell_type": "code",
      "execution_count": 24,
      "metadata": {
        "colab": {
          "base_uri": "https://localhost:8080/"
        },
        "id": "Kom17u9sG_Wl",
        "outputId": "b58634b9-401e-4c47-a06b-e809c6731c4f"
      },
      "outputs": [
        {
          "output_type": "stream",
          "name": "stdout",
          "text": [
            "archivo'vgsales.csv'se muestran las 5 primeras filas:\n",
            "   Rank                      Name Platform    Year         Genre Publisher  \\\n",
            "0     1                Wii Sports      Wii  2006.0        Sports  Nintendo   \n",
            "1     2         Super Mario Bros.      NES  1985.0      Platform  Nintendo   \n",
            "2     3            Mario Kart Wii      Wii  2008.0        Racing  Nintendo   \n",
            "3     4         Wii Sports Resort      Wii  2009.0        Sports  Nintendo   \n",
            "4     5  Pokemon Red/Pokemon Blue       GB  1996.0  Role-Playing  Nintendo   \n",
            "\n",
            "   NA_Sales  EU_Sales  JP_Sales  Other_Sales  Global_Sales  \n",
            "0     41.49     29.02      3.77         8.46         82.74  \n",
            "1     29.08      3.58      6.81         0.77         40.24  \n",
            "2     15.85     12.88      3.79         3.31         35.82  \n",
            "3     15.75     11.01      3.28         2.96         33.00  \n",
            "4     11.27      8.89     10.22         1.00         31.37  \n",
            "\n",
            " informacion inicial de las columnas(dtype y nulos)\n",
            "<class 'pandas.core.frame.DataFrame'>\n",
            "RangeIndex: 16598 entries, 0 to 16597\n",
            "Data columns (total 11 columns):\n",
            " #   Column        Non-Null Count  Dtype  \n",
            "---  ------        --------------  -----  \n",
            " 0   Rank          16598 non-null  int64  \n",
            " 1   Name          16598 non-null  object \n",
            " 2   Platform      16598 non-null  object \n",
            " 3   Year          16327 non-null  float64\n",
            " 4   Genre         16598 non-null  object \n",
            " 5   Publisher     16540 non-null  object \n",
            " 6   NA_Sales      16598 non-null  float64\n",
            " 7   EU_Sales      16598 non-null  float64\n",
            " 8   JP_Sales      16598 non-null  float64\n",
            " 9   Other_Sales   16598 non-null  float64\n",
            " 10  Global_Sales  16598 non-null  float64\n",
            "dtypes: float64(6), int64(1), object(4)\n",
            "memory usage: 1.4+ MB\n"
          ]
        }
      ],
      "source": [
        "import pandas as pd\n",
        "import numpy as np\n",
        "file_name = 'vgsales.csv'\n",
        "df = pd.read_csv(file_name)\n",
        "print(f\"archivo'{file_name}'se muestran las 5 primeras filas:\")\n",
        "print(df.head())\n",
        "\n",
        "\n",
        "print(\"\\n informacion inicial de las columnas(dtype y nulos)\")\n",
        "df.info()"
      ]
    },
    {
      "cell_type": "code",
      "source": [
        "df.dropna(subset=['Year', 'Publisher', 'Genre'], inplace=True)"
      ],
      "metadata": {
        "id": "ejTP5GaDKp0S"
      },
      "execution_count": 25,
      "outputs": []
    },
    {
      "cell_type": "code",
      "source": [
        "df['Year']=df['Year'].astype(int)"
      ],
      "metadata": {
        "id": "LaqKYOQMLR31"
      },
      "execution_count": 26,
      "outputs": []
    },
    {
      "cell_type": "code",
      "source": [
        "df.columns= ['Rank', 'Name','Platform','year','Genre','Publisher','NA_Sales',\n",
        "             'EU_Sales','JP_Sales','Other_Sales','Global_Sales']\n",
        "df.columns = [col.lower().replace('.',''). replace('_Sales','_Ventas').replace('Rank','id_csv')for col in df.columns]"
      ],
      "metadata": {
        "id": "MnV8BRi1Llm4"
      },
      "execution_count": 27,
      "outputs": []
    },
    {
      "cell_type": "code",
      "metadata": {
        "id": "37d998dc"
      },
      "source": [
        "# Define dimension tables again to ensure they are available in this cell\n",
        "dim_editoriales= df[['publisher']].drop_duplicates().reset_index(drop=True)\n",
        "dim_editoriales.rename(columns={'publisher':'nombre_editorial'},inplace=True)\n",
        "dim_editoriales['id_editorial']=dim_editoriales.index +1\n",
        "\n",
        "dim_generos= df[['genre']].drop_duplicates(). reset_index(drop=True)\n",
        "dim_generos.rename(columns={'genre':'nombre_genero'},inplace=True)\n",
        "dim_generos['id_genero']=dim_generos.index +1\n",
        "\n",
        "dim_plataformas=df[['platform']].drop_duplicates(). reset_index(drop=True)\n",
        "dim_plataformas.rename(columns={'platform':'nombre_plataforma'},inplace=True)\n",
        "dim_plataformas['id_plataforma']=dim_plataformas.index +1\n",
        "\n",
        "\n",
        "fact_ventas=df.copy()\n",
        "fact_ventas= fact_ventas.merge(dim_editoriales,left_on='publisher',right_on='nombre_editorial',how='left')\n",
        "fact_ventas= fact_ventas.merge(dim_generos,left_on='genre', right_on='nombre_genero',how='left')\n",
        "fact_ventas= fact_ventas.merge(dim_plataformas,left_on='platform',right_on='nombre_plataforma',how='left')"
      ],
      "execution_count": 28,
      "outputs": []
    },
    {
      "cell_type": "code",
      "metadata": {
        "id": "2436623a"
      },
      "source": [
        "fact_ventas=df.copy()\n",
        "fact_ventas= fact_ventas.merge(dim_editoriales,left_on='publisher',right_on='nombre_editorial',how='left')\n",
        "fact_ventas= fact_ventas.merge(dim_generos,left_on='genre', right_on='nombre_genero',how='left')\n",
        "fact_ventas= fact_ventas.merge(dim_plataformas,left_on='platform',right_on='nombre_plataforma',how='left')"
      ],
      "execution_count": 29,
      "outputs": []
    },
    {
      "cell_type": "code",
      "source": [
        "fact_ventas= fact_ventas[['name','year','id_genero','id_editorial',\n",
        "                          'id_plataforma','na_sales','eu_sales','jp_sales',\n",
        "                          'other_sales','global_sales']]"
      ],
      "metadata": {
        "id": "yp0JpmLsamYL"
      },
      "execution_count": 30,
      "outputs": []
    },
    {
      "cell_type": "code",
      "source": [
        "fact_ventas.rename(columns={'name': 'nombre_juego', 'year': 'año_lanzamiento'},inplace=True)\n",
        "fact_ventas['id_venta']= fact_ventas.index +1"
      ],
      "metadata": {
        "id": "yBOfZV_9bWd7"
      },
      "execution_count": 31,
      "outputs": []
    },
    {
      "cell_type": "code",
      "source": [
        "column_ordes=['id_venta','nombre_juego','año_lanzamiento',\n",
        "              'id_editorial', 'id_genero','na_sales','eu_sales','jp_sales','other_sales','global_sales']\n",
        "fact_ventas= fact_ventas[column_ordes]"
      ],
      "metadata": {
        "id": "jb_vu9zwcI40"
      },
      "execution_count": 32,
      "outputs": []
    },
    {
      "cell_type": "code",
      "source": [
        "print(\"\\n---vista previa de la tabla de hechos:---\\n\")\n",
        "print(fact_ventas.head())"
      ],
      "metadata": {
        "colab": {
          "base_uri": "https://localhost:8080/"
        },
        "id": "A1aKnNECddYU",
        "outputId": "9b0cbaa4-3fc7-4c3f-fcac-94f7727b9d59"
      },
      "execution_count": 33,
      "outputs": [
        {
          "output_type": "stream",
          "name": "stdout",
          "text": [
            "\n",
            "---vista previa de la tabla de hechos:---\n",
            "\n",
            "   id_venta              nombre_juego  año_lanzamiento  id_editorial  \\\n",
            "0         1                Wii Sports             2006             1   \n",
            "1         2         Super Mario Bros.             1985             1   \n",
            "2         3            Mario Kart Wii             2008             1   \n",
            "3         4         Wii Sports Resort             2009             1   \n",
            "4         5  Pokemon Red/Pokemon Blue             1996             1   \n",
            "\n",
            "   id_genero  na_sales  eu_sales  jp_sales  other_sales  global_sales  \n",
            "0          1     41.49     29.02      3.77         8.46         82.74  \n",
            "1          2     29.08      3.58      6.81         0.77         40.24  \n",
            "2          3     15.85     12.88      3.79         3.31         35.82  \n",
            "3          1     15.75     11.01      3.28         2.96         33.00  \n",
            "4          4     11.27      8.89     10.22         1.00         31.37  \n"
          ]
        }
      ]
    },
    {
      "cell_type": "code",
      "source": [
        "print(\"\\n---vista previa de la tabla de editoriales:---\\n\")\n",
        "print(dim_editoriales.head())"
      ],
      "metadata": {
        "colab": {
          "base_uri": "https://localhost:8080/"
        },
        "id": "QYTKXoRbd97h",
        "outputId": "4f6945b1-3296-493c-c7da-9ffa297c8873"
      },
      "execution_count": 35,
      "outputs": [
        {
          "output_type": "stream",
          "name": "stdout",
          "text": [
            "\n",
            "---vista previa de la tabla de editoriales:---\n",
            "\n",
            "              nombre_editorial  id_editorial\n",
            "0                     Nintendo             1\n",
            "1       Microsoft Game Studios             2\n",
            "2         Take-Two Interactive             3\n",
            "3  Sony Computer Entertainment             4\n",
            "4                   Activision             5\n"
          ]
        }
      ]
    },
    {
      "cell_type": "code",
      "source": [
        "fact_ventas.to_csv('fact_ventas_juegos.csv',index=False,encoding='utf-8')"
      ],
      "metadata": {
        "id": "0QR_RY1Ypg_K"
      },
      "execution_count": 37,
      "outputs": []
    },
    {
      "cell_type": "code",
      "source": [
        "dim_editoriales.to_csv('dim_editoriales.csv',index=False,encoding='utf-8')\n",
        "dim_generos.to_csv('dim_generos.csv',index=False,encoding='utf-8')\n",
        "dim_plataformas.to_csv('dim_plataformas.csv', index=False, encoding='utf-8')\n",
        "print(\"arvchivos limpios \")"
      ],
      "metadata": {
        "colab": {
          "base_uri": "https://localhost:8080/"
        },
        "id": "4zZh4yJLqLbo",
        "outputId": "f7dde74c-97fc-49f4-a830-2a67c455c51e"
      },
      "execution_count": 40,
      "outputs": [
        {
          "output_type": "stream",
          "name": "stdout",
          "text": [
            "arvchivos limpios \n"
          ]
        }
      ]
    },
    {
      "cell_type": "code",
      "source": [
        "from google.colab import files\n",
        "\n",
        "files.download('fact_ventas_juegos.csv')\n",
        "files.download('dim_editoriales.csv')\n",
        "files.download('dim_generos.csv')\n",
        "files.download('dim_plataformas.csv')"
      ],
      "metadata": {
        "colab": {
          "base_uri": "https://localhost:8080/",
          "height": 17
        },
        "id": "1PlkzboZrFmy",
        "outputId": "6c17388b-381a-4610-9f65-d115d1a50cea"
      },
      "execution_count": 42,
      "outputs": [
        {
          "output_type": "display_data",
          "data": {
            "text/plain": [
              "<IPython.core.display.Javascript object>"
            ],
            "application/javascript": [
              "\n",
              "    async function download(id, filename, size) {\n",
              "      if (!google.colab.kernel.accessAllowed) {\n",
              "        return;\n",
              "      }\n",
              "      const div = document.createElement('div');\n",
              "      const label = document.createElement('label');\n",
              "      label.textContent = `Downloading \"${filename}\": `;\n",
              "      div.appendChild(label);\n",
              "      const progress = document.createElement('progress');\n",
              "      progress.max = size;\n",
              "      div.appendChild(progress);\n",
              "      document.body.appendChild(div);\n",
              "\n",
              "      const buffers = [];\n",
              "      let downloaded = 0;\n",
              "\n",
              "      const channel = await google.colab.kernel.comms.open(id);\n",
              "      // Send a message to notify the kernel that we're ready.\n",
              "      channel.send({})\n",
              "\n",
              "      for await (const message of channel.messages) {\n",
              "        // Send a message to notify the kernel that we're ready.\n",
              "        channel.send({})\n",
              "        if (message.buffers) {\n",
              "          for (const buffer of message.buffers) {\n",
              "            buffers.push(buffer);\n",
              "            downloaded += buffer.byteLength;\n",
              "            progress.value = downloaded;\n",
              "          }\n",
              "        }\n",
              "      }\n",
              "      const blob = new Blob(buffers, {type: 'application/binary'});\n",
              "      const a = document.createElement('a');\n",
              "      a.href = window.URL.createObjectURL(blob);\n",
              "      a.download = filename;\n",
              "      div.appendChild(a);\n",
              "      a.click();\n",
              "      div.remove();\n",
              "    }\n",
              "  "
            ]
          },
          "metadata": {}
        },
        {
          "output_type": "display_data",
          "data": {
            "text/plain": [
              "<IPython.core.display.Javascript object>"
            ],
            "application/javascript": [
              "download(\"download_bd9285da-1443-4792-bd48-5b1e072dbe74\", \"fact_ventas_juegos.csv\", 1033639)"
            ]
          },
          "metadata": {}
        },
        {
          "output_type": "display_data",
          "data": {
            "text/plain": [
              "<IPython.core.display.Javascript object>"
            ],
            "application/javascript": [
              "\n",
              "    async function download(id, filename, size) {\n",
              "      if (!google.colab.kernel.accessAllowed) {\n",
              "        return;\n",
              "      }\n",
              "      const div = document.createElement('div');\n",
              "      const label = document.createElement('label');\n",
              "      label.textContent = `Downloading \"${filename}\": `;\n",
              "      div.appendChild(label);\n",
              "      const progress = document.createElement('progress');\n",
              "      progress.max = size;\n",
              "      div.appendChild(progress);\n",
              "      document.body.appendChild(div);\n",
              "\n",
              "      const buffers = [];\n",
              "      let downloaded = 0;\n",
              "\n",
              "      const channel = await google.colab.kernel.comms.open(id);\n",
              "      // Send a message to notify the kernel that we're ready.\n",
              "      channel.send({})\n",
              "\n",
              "      for await (const message of channel.messages) {\n",
              "        // Send a message to notify the kernel that we're ready.\n",
              "        channel.send({})\n",
              "        if (message.buffers) {\n",
              "          for (const buffer of message.buffers) {\n",
              "            buffers.push(buffer);\n",
              "            downloaded += buffer.byteLength;\n",
              "            progress.value = downloaded;\n",
              "          }\n",
              "        }\n",
              "      }\n",
              "      const blob = new Blob(buffers, {type: 'application/binary'});\n",
              "      const a = document.createElement('a');\n",
              "      a.href = window.URL.createObjectURL(blob);\n",
              "      a.download = filename;\n",
              "      div.appendChild(a);\n",
              "      a.click();\n",
              "      div.remove();\n",
              "    }\n",
              "  "
            ]
          },
          "metadata": {}
        },
        {
          "output_type": "display_data",
          "data": {
            "text/plain": [
              "<IPython.core.display.Javascript object>"
            ],
            "application/javascript": [
              "download(\"download_7054d2b9-9855-470b-8bf9-2e402755a14e\", \"dim_editoriales.csv\", 9964)"
            ]
          },
          "metadata": {}
        },
        {
          "output_type": "display_data",
          "data": {
            "text/plain": [
              "<IPython.core.display.Javascript object>"
            ],
            "application/javascript": [
              "\n",
              "    async function download(id, filename, size) {\n",
              "      if (!google.colab.kernel.accessAllowed) {\n",
              "        return;\n",
              "      }\n",
              "      const div = document.createElement('div');\n",
              "      const label = document.createElement('label');\n",
              "      label.textContent = `Downloading \"${filename}\": `;\n",
              "      div.appendChild(label);\n",
              "      const progress = document.createElement('progress');\n",
              "      progress.max = size;\n",
              "      div.appendChild(progress);\n",
              "      document.body.appendChild(div);\n",
              "\n",
              "      const buffers = [];\n",
              "      let downloaded = 0;\n",
              "\n",
              "      const channel = await google.colab.kernel.comms.open(id);\n",
              "      // Send a message to notify the kernel that we're ready.\n",
              "      channel.send({})\n",
              "\n",
              "      for await (const message of channel.messages) {\n",
              "        // Send a message to notify the kernel that we're ready.\n",
              "        channel.send({})\n",
              "        if (message.buffers) {\n",
              "          for (const buffer of message.buffers) {\n",
              "            buffers.push(buffer);\n",
              "            downloaded += buffer.byteLength;\n",
              "            progress.value = downloaded;\n",
              "          }\n",
              "        }\n",
              "      }\n",
              "      const blob = new Blob(buffers, {type: 'application/binary'});\n",
              "      const a = document.createElement('a');\n",
              "      a.href = window.URL.createObjectURL(blob);\n",
              "      a.download = filename;\n",
              "      div.appendChild(a);\n",
              "      a.click();\n",
              "      div.remove();\n",
              "    }\n",
              "  "
            ]
          },
          "metadata": {}
        },
        {
          "output_type": "display_data",
          "data": {
            "text/plain": [
              "<IPython.core.display.Javascript object>"
            ],
            "application/javascript": [
              "download(\"download_08315ea1-08bc-49b0-bbb8-d9a06f13ef01\", \"dim_generos.csv\", 153)"
            ]
          },
          "metadata": {}
        },
        {
          "output_type": "display_data",
          "data": {
            "text/plain": [
              "<IPython.core.display.Javascript object>"
            ],
            "application/javascript": [
              "\n",
              "    async function download(id, filename, size) {\n",
              "      if (!google.colab.kernel.accessAllowed) {\n",
              "        return;\n",
              "      }\n",
              "      const div = document.createElement('div');\n",
              "      const label = document.createElement('label');\n",
              "      label.textContent = `Downloading \"${filename}\": `;\n",
              "      div.appendChild(label);\n",
              "      const progress = document.createElement('progress');\n",
              "      progress.max = size;\n",
              "      div.appendChild(progress);\n",
              "      document.body.appendChild(div);\n",
              "\n",
              "      const buffers = [];\n",
              "      let downloaded = 0;\n",
              "\n",
              "      const channel = await google.colab.kernel.comms.open(id);\n",
              "      // Send a message to notify the kernel that we're ready.\n",
              "      channel.send({})\n",
              "\n",
              "      for await (const message of channel.messages) {\n",
              "        // Send a message to notify the kernel that we're ready.\n",
              "        channel.send({})\n",
              "        if (message.buffers) {\n",
              "          for (const buffer of message.buffers) {\n",
              "            buffers.push(buffer);\n",
              "            downloaded += buffer.byteLength;\n",
              "            progress.value = downloaded;\n",
              "          }\n",
              "        }\n",
              "      }\n",
              "      const blob = new Blob(buffers, {type: 'application/binary'});\n",
              "      const a = document.createElement('a');\n",
              "      a.href = window.URL.createObjectURL(blob);\n",
              "      a.download = filename;\n",
              "      div.appendChild(a);\n",
              "      a.click();\n",
              "      div.remove();\n",
              "    }\n",
              "  "
            ]
          },
          "metadata": {}
        },
        {
          "output_type": "display_data",
          "data": {
            "text/plain": [
              "<IPython.core.display.Javascript object>"
            ],
            "application/javascript": [
              "download(\"download_aff59dcb-60c0-4054-9215-518caf770633\", \"dim_plataformas.csv\", 237)"
            ]
          },
          "metadata": {}
        }
      ]
    }
  ]
}