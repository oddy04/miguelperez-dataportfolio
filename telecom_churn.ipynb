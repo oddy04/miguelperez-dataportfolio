{
  "nbformat": 4,
  "nbformat_minor": 0,
  "metadata": {
    "colab": {
      "provenance": [],
      "authorship_tag": "ABX9TyPygPEgHRXjgftiCu0E7LjV",
      "include_colab_link": true
    },
    "kernelspec": {
      "name": "python3",
      "display_name": "Python 3"
    },
    "language_info": {
      "name": "python"
    }
  },
  "cells": [
    {
      "cell_type": "markdown",
      "metadata": {
        "id": "view-in-github",
        "colab_type": "text"
      },
      "source": [
        "<a href=\"https://colab.research.google.com/github/oddy04/miguelperez-dataportfolio/blob/main/telecom_churn.ipynb\" target=\"_parent\"><img src=\"https://colab.research.google.com/assets/colab-badge.svg\" alt=\"Open In Colab\"/></a>"
      ]
    },
    {
      "cell_type": "code",
      "execution_count": 1,
      "metadata": {
        "colab": {
          "base_uri": "https://localhost:8080/"
        },
        "collapsed": true,
        "id": "iyMveXV4L1ZB",
        "outputId": "fe3b61dc-558b-4a90-a724-b5c954589c91"
      },
      "outputs": [
        {
          "output_type": "stream",
          "name": "stdout",
          "text": [
            "---dimension del dataset---\n",
            "filas:2666, columnas:20\n",
            "\n",
            "--- 5 primeras filas---\n",
            "  State  Account length  Area code International plan Voice mail plan  \\\n",
            "0    KS             128        415                 No             Yes   \n",
            "1    OH             107        415                 No             Yes   \n",
            "2    NJ             137        415                 No              No   \n",
            "3    OH              84        408                Yes              No   \n",
            "4    OK              75        415                Yes              No   \n",
            "\n",
            "   Number vmail messages  Total day minutes  Total day calls  \\\n",
            "0                     25              265.1              110   \n",
            "1                     26              161.6              123   \n",
            "2                      0              243.4              114   \n",
            "3                      0              299.4               71   \n",
            "4                      0              166.7              113   \n",
            "\n",
            "   Total day charge  Total eve minutes  Total eve calls  Total eve charge  \\\n",
            "0             45.07              197.4               99             16.78   \n",
            "1             27.47              195.5              103             16.62   \n",
            "2             41.38              121.2              110             10.30   \n",
            "3             50.90               61.9               88              5.26   \n",
            "4             28.34              148.3              122             12.61   \n",
            "\n",
            "   Total night minutes  Total night calls  Total night charge  \\\n",
            "0                244.7                 91               11.01   \n",
            "1                254.4                103               11.45   \n",
            "2                162.6                104                7.32   \n",
            "3                196.9                 89                8.86   \n",
            "4                186.9                121                8.41   \n",
            "\n",
            "   Total intl minutes  Total intl calls  Total intl charge  \\\n",
            "0                10.0                 3               2.70   \n",
            "1                13.7                 3               3.70   \n",
            "2                12.2                 5               3.29   \n",
            "3                 6.6                 7               1.78   \n",
            "4                10.1                 3               2.73   \n",
            "\n",
            "   Customer service calls  Churn  \n",
            "0                       1  False  \n",
            "1                       1  False  \n",
            "2                       0  False  \n",
            "3                       2  False  \n",
            "4                       3  False  \n",
            "\n",
            "---tipos de datos y valores nulos---\n",
            "<class 'pandas.core.frame.DataFrame'>\n",
            "RangeIndex: 2666 entries, 0 to 2665\n",
            "Data columns (total 20 columns):\n",
            " #   Column                  Non-Null Count  Dtype  \n",
            "---  ------                  --------------  -----  \n",
            " 0   State                   2666 non-null   object \n",
            " 1   Account length          2666 non-null   int64  \n",
            " 2   Area code               2666 non-null   int64  \n",
            " 3   International plan      2666 non-null   object \n",
            " 4   Voice mail plan         2666 non-null   object \n",
            " 5   Number vmail messages   2666 non-null   int64  \n",
            " 6   Total day minutes       2666 non-null   float64\n",
            " 7   Total day calls         2666 non-null   int64  \n",
            " 8   Total day charge        2666 non-null   float64\n",
            " 9   Total eve minutes       2666 non-null   float64\n",
            " 10  Total eve calls         2666 non-null   int64  \n",
            " 11  Total eve charge        2666 non-null   float64\n",
            " 12  Total night minutes     2666 non-null   float64\n",
            " 13  Total night calls       2666 non-null   int64  \n",
            " 14  Total night charge      2666 non-null   float64\n",
            " 15  Total intl minutes      2666 non-null   float64\n",
            " 16  Total intl calls        2666 non-null   int64  \n",
            " 17  Total intl charge       2666 non-null   float64\n",
            " 18  Customer service calls  2666 non-null   int64  \n",
            " 19  Churn                   2666 non-null   bool   \n",
            "dtypes: bool(1), float64(8), int64(8), object(3)\n",
            "memory usage: 398.5+ KB\n"
          ]
        }
      ],
      "source": [
        "import pandas as pd\n",
        "import numpy as np\n",
        "df = pd.read_csv('/content/churn-bigml-80.csv')\n",
        "\n",
        "print(\"---dimension del dataset---\")\n",
        "print(f\"filas:{df.shape[0]}, columnas:{df.shape[1]}\")\n",
        "\n",
        "\n",
        "print(\"\\n--- 5 primeras filas---\")\n",
        "print(df.head())\n",
        "\n",
        "\n",
        "print(\"\\n---tipos de datos y valores nulos---\")\n",
        "df.info()"
      ]
    },
    {
      "cell_type": "code",
      "metadata": {
        "colab": {
          "base_uri": "https://localhost:8080/"
        },
        "collapsed": true,
        "id": "4ca71363",
        "outputId": "1715e9af-312b-42c0-f743-f02dd0282f6d"
      },
      "source": [
        "# 2.1. Identificar columnas de tipo 'object' que necesitan codificación\n",
        "categorical_cols = df.select_dtypes(include=['object']).columns\n",
        "\n",
        "# 2.2. Aplicar One-Hot Encoding\n",
        "# Usamos 'drop_first=True' para evitar la multicolinealidad\n",
        "df_model = pd.get_dummies(df, columns=categorical_cols, drop_first=True)\n",
        "\n",
        "# 2.3. Convertir la columna Churn (Booleana) a entero (0 o 1)\n",
        "df_model['Churn'] = df_model['Churn'].astype(int)\n",
        "\n",
        "print(f\"\\nDimensiones finales del dataset: {df_model.shape}\")\n",
        "print(\"\\n--- Primeras filas del dataset listo para ML ---\")\n",
        "print(df_model.head())"
      ],
      "execution_count": 2,
      "outputs": [
        {
          "output_type": "stream",
          "name": "stdout",
          "text": [
            "\n",
            "Dimensiones finales del dataset: (2666, 69)\n",
            "\n",
            "--- Primeras filas del dataset listo para ML ---\n",
            "   Account length  Area code  Number vmail messages  Total day minutes  \\\n",
            "0             128        415                     25              265.1   \n",
            "1             107        415                     26              161.6   \n",
            "2             137        415                      0              243.4   \n",
            "3              84        408                      0              299.4   \n",
            "4              75        415                      0              166.7   \n",
            "\n",
            "   Total day calls  Total day charge  Total eve minutes  Total eve calls  \\\n",
            "0              110             45.07              197.4               99   \n",
            "1              123             27.47              195.5              103   \n",
            "2              114             41.38              121.2              110   \n",
            "3               71             50.90               61.9               88   \n",
            "4              113             28.34              148.3              122   \n",
            "\n",
            "   Total eve charge  Total night minutes  ...  State_TX  State_UT  State_VA  \\\n",
            "0             16.78                244.7  ...     False     False     False   \n",
            "1             16.62                254.4  ...     False     False     False   \n",
            "2             10.30                162.6  ...     False     False     False   \n",
            "3              5.26                196.9  ...     False     False     False   \n",
            "4             12.61                186.9  ...     False     False     False   \n",
            "\n",
            "   State_VT  State_WA  State_WI  State_WV  State_WY  International plan_Yes  \\\n",
            "0     False     False     False     False     False                   False   \n",
            "1     False     False     False     False     False                   False   \n",
            "2     False     False     False     False     False                   False   \n",
            "3     False     False     False     False     False                    True   \n",
            "4     False     False     False     False     False                    True   \n",
            "\n",
            "   Voice mail plan_Yes  \n",
            "0                 True  \n",
            "1                 True  \n",
            "2                False  \n",
            "3                False  \n",
            "4                False  \n",
            "\n",
            "[5 rows x 69 columns]\n"
          ]
        }
      ]
    },
    {
      "cell_type": "code",
      "metadata": {
        "colab": {
          "base_uri": "https://localhost:8080/"
        },
        "collapsed": true,
        "id": "112d3189",
        "outputId": "d7939f89-8afc-4bc0-a7b5-591544523edf"
      },
      "source": [
        "columns_to_drop = ['State', 'Area code', 'Total day charge', 'Total eve charge', 'Total night charge', 'Total intl charge']\n",
        "df = df.drop(columns_to_drop, axis=1)\n",
        "\n",
        "print(f\"Dimensiones después de la reducción: {df.shape}\")\n",
        "print(\"\\n--- Columnas restantes ---\")\n",
        "print(df.columns)"
      ],
      "execution_count": 3,
      "outputs": [
        {
          "output_type": "stream",
          "name": "stdout",
          "text": [
            "Dimensiones después de la reducción: (2666, 14)\n",
            "\n",
            "--- Columnas restantes ---\n",
            "Index(['Account length', 'International plan', 'Voice mail plan',\n",
            "       'Number vmail messages', 'Total day minutes', 'Total day calls',\n",
            "       'Total eve minutes', 'Total eve calls', 'Total night minutes',\n",
            "       'Total night calls', 'Total intl minutes', 'Total intl calls',\n",
            "       'Customer service calls', 'Churn'],\n",
            "      dtype='object')\n"
          ]
        }
      ]
    },
    {
      "cell_type": "code",
      "source": [
        "categorical_cols = df.select_dtypes(include=['object']).columns\n",
        "df_model = pd.get_dummies(df, columns=categorical_cols, drop_first=True)\n",
        "df_model['churn']= df_model['Churn'].astype(int)\n",
        "x=df_model.drop('churn', axis=1)\n",
        "y=df_model['Churn']"
      ],
      "metadata": {
        "id": "wl9sHh-8Q92r"
      },
      "execution_count": 4,
      "outputs": []
    },
    {
      "cell_type": "code",
      "source": [
        "from sklearn.model_selection import train_test_split\n",
        "from sklearn.preprocessing import StandardScaler\n",
        "from sklearn.ensemble import RandomForestClassifier\n",
        "from sklearn.metrics import classification_report,accuracy_score,confusion_matrix\n",
        "\n",
        "X_train, X_test, y_train, y_test = train_test_split(x, y, test_size=0.3, random_state=42, stratify=y)\n",
        "\n",
        "print(\"---division de datos comletada---\")\n",
        "print(f\"tamaño del conjunto de entrenamiento : {X_train.shape[0]} filas\")\n",
        "\n",
        "scaler= StandardScaler()\n",
        "x_train_scaled= scaler.fit_transform(X_train)\n",
        "X_test_scaled= scaler.transform(X_test)\n",
        "\n",
        "print(\"escalado (estandarizacion) completo\")\n",
        "\n",
        "model= RandomForestClassifier(n_estimators=100, random_state=42, class_weight='balanced')\n",
        "model.fit(x_train_scaled, y_train)\n",
        "\n",
        "print(\"modelo random forest entrenado con exito!!\")\n",
        "\n",
        "\n",
        "\n",
        "y_pred= model.predict(X_test_scaled)\n",
        "\n",
        "print(\"\\n\"+ \"=\"*40)\n",
        "print(\"---METRICAS DE EVALUACION FINAL---\")\n",
        "print(\"=\"*40)\n",
        "\n",
        "\n",
        "print(f\"precision general (accuracy):{accuracy_score(y_test, y_pred):.4f}\")\n",
        "\n",
        "print(\"\\n---reporte de clasificacion(detalle por clase)---\")\n",
        "print(classification_report(y_test, y_pred))"
      ],
      "metadata": {
        "colab": {
          "base_uri": "https://localhost:8080/"
        },
        "collapsed": true,
        "id": "R_ZAL_V9Szia",
        "outputId": "833e0e08-befe-4527-d8d1-236f8be1c68f"
      },
      "execution_count": 5,
      "outputs": [
        {
          "output_type": "stream",
          "name": "stdout",
          "text": [
            "---division de datos comletada---\n",
            "tamaño del conjunto de entrenamiento : 1866 filas\n",
            "escalado (estandarizacion) completo\n",
            "modelo random forest entrenado con exito!!\n",
            "\n",
            "========================================\n",
            "---METRICAS DE EVALUACION FINAL---\n",
            "========================================\n",
            "precision general (accuracy):1.0000\n",
            "\n",
            "---reporte de clasificacion(detalle por clase)---\n",
            "              precision    recall  f1-score   support\n",
            "\n",
            "       False       1.00      1.00      1.00       684\n",
            "        True       1.00      1.00      1.00       116\n",
            "\n",
            "    accuracy                           1.00       800\n",
            "   macro avg       1.00      1.00      1.00       800\n",
            "weighted avg       1.00      1.00      1.00       800\n",
            "\n"
          ]
        }
      ]
    },
    {
      "cell_type": "code",
      "source": [
        "import matplotlib.pyplot as plt\n",
        "import seaborn as sns\n",
        "\n",
        "importance = model.feature_importances_\n",
        "feature_names= x.columns\n",
        "feature_importance_df= pd.DataFrame({\n",
        "    'Feature': feature_names,\n",
        "    'Importance': importance\n",
        "    }).sort_values('Importance', ascending=False)\n",
        "\n",
        "print(\"\\n---10 caracteristicas mas importantes---\")\n",
        "print(feature_importance_df.head(10))\n",
        "plt.figure(figsize=(12,6))\n",
        "sns.barplot(x='Importance', y='Feature',data=feature_importance_df.head(10),palette=\"viridis\")\n",
        "plt.title('top 10 impotancia de las variables en la prediccion de abandono (churn)')\n",
        "plt.grid(axis='x', linestyle='--', alpha=0.7)\n",
        "plt.show()"
      ],
      "metadata": {
        "colab": {
          "base_uri": "https://localhost:8080/",
          "height": 670
        },
        "collapsed": true,
        "id": "Voa0Nz2i0T1x",
        "outputId": "b7e696ca-7a39-4b9e-903b-e3a2b13c97a6"
      },
      "execution_count": 13,
      "outputs": [
        {
          "output_type": "stream",
          "name": "stdout",
          "text": [
            "\n",
            "---10 caracteristicas mas importantes---\n",
            "                   Feature  Importance\n",
            "11                   Churn    0.709376\n",
            "2        Total day minutes    0.080264\n",
            "10  Customer service calls    0.059130\n",
            "12  International plan_Yes    0.046256\n",
            "8       Total intl minutes    0.015501\n",
            "4        Total eve minutes    0.015167\n",
            "6      Total night minutes    0.013398\n",
            "1    Number vmail messages    0.010626\n",
            "9         Total intl calls    0.010026\n",
            "13     Voice mail plan_Yes    0.009170\n"
          ]
        },
        {
          "output_type": "stream",
          "name": "stderr",
          "text": [
            "/tmp/ipython-input-3355891938.py:14: FutureWarning: \n",
            "\n",
            "Passing `palette` without assigning `hue` is deprecated and will be removed in v0.14.0. Assign the `y` variable to `hue` and set `legend=False` for the same effect.\n",
            "\n",
            "  sns.barplot(x='Importance', y='Feature',data=feature_importance_df.head(10),palette=\"viridis\")\n"
          ]
        },
        {
          "output_type": "display_data",
          "data": {
            "text/plain": [
              "<Figure size 1200x600 with 1 Axes>"
            ],
            "image/png": "[encoded data removed]"
          },
          "metadata": {}
        }
      ]
    }
  ]
}